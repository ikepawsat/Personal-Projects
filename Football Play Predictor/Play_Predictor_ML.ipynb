{
  "nbformat": 4,
  "nbformat_minor": 0,
  "metadata": {
    "colab": {
      "provenance": [],
      "toc_visible": true
    },
    "kernelspec": {
      "name": "python3",
      "display_name": "Python 3"
    },
    "language_info": {
      "name": "python"
    }
  },
  "cells": [
    {
      "cell_type": "markdown",
      "source": [
        "# Intoduction\n"
      ],
      "metadata": {
        "id": "Fx3ufRA2a-ff"
      }
    },
    {
      "cell_type": "markdown",
      "source": [
        "This is a smaller data set, for this to really do better it will need a larger one, but even this small demonstration shows the ability to predict with a higher accuracy than guessing what play is being run with few complex variables. Personally, I believe it is a success as I was consistently better than randomly guessing and any advantage snowball into a larger one later on."
      ],
      "metadata": {
        "id": "RdhwrRU96ZVY"
      }
    },
    {
      "cell_type": "markdown",
      "source": [
        "# Setting Up CSV\n"
      ],
      "metadata": {
        "id": "JIWxI-xV6Ub-"
      }
    },
    {
      "cell_type": "code",
      "source": [
        "#Author: Ike Pawsat - ike.pawsat@gmail.com\n",
        "\n",
        "import pandas as pd\n",
        "import matplotlib.pyplot as plt\n",
        "import numpy as np\n",
        "\n",
        "!rm FD-2023.csv\n",
        "!wget https://raw.githubusercontent.com/ikepawsat/Personal-Projects/main/Football%20Play%20Predictor/FD-2023.csv\n",
        "\n",
        "stats = pd.read_csv(\"FD-2023.csv\")"
      ],
      "metadata": {
        "colab": {
          "base_uri": "https://localhost:8080/"
        },
        "id": "pLF3vAl5bCoT",
        "outputId": "3c7f872b-4967-4348-aab5-e4296cbf442a"
      },
      "execution_count": null,
      "outputs": [
        {
          "output_type": "stream",
          "name": "stdout",
          "text": [
            "rm: cannot remove 'FD-2023.csv': No such file or directory\n",
            "--2024-07-09 00:12:31--  https://raw.githubusercontent.com/ikepawsat/Personal-Projects/main/Football%20Play%20Predictor/FD-2023.csv\n",
            "Resolving raw.githubusercontent.com (raw.githubusercontent.com)... 185.199.108.133, 185.199.109.133, 185.199.110.133, ...\n",
            "Connecting to raw.githubusercontent.com (raw.githubusercontent.com)|185.199.108.133|:443... connected.\n",
            "HTTP request sent, awaiting response... 200 OK\n",
            "Length: 8337801 (8.0M) [text/plain]\n",
            "Saving to: ‘FD-2023.csv’\n",
            "\n",
            "FD-2023.csv         100%[===================>]   7.95M  --.-KB/s    in 0.1s    \n",
            "\n",
            "2024-07-09 00:12:32 (62.5 MB/s) - ‘FD-2023.csv’ saved [8337801/8337801]\n",
            "\n"
          ]
        }
      ]
    },
    {
      "cell_type": "markdown",
      "source": [
        "## Dataset Details"
      ],
      "metadata": {
        "id": "1LtGmWkubTpa"
      }
    },
    {
      "cell_type": "code",
      "source": [
        "stats.columns"
      ],
      "metadata": {
        "colab": {
          "base_uri": "https://localhost:8080/"
        },
        "id": "Lt_MtM8ObW7D",
        "outputId": "e59a1ad4-56e4-4db9-886b-97917eb6cc5e"
      },
      "execution_count": null,
      "outputs": [
        {
          "output_type": "execute_result",
          "data": {
            "text/plain": [
              "Index(['GameId', 'GameDate', 'Quarter', 'Minute', 'Second', 'OffenseTeam',\n",
              "       'DefenseTeam', 'Down', 'ToGo', 'YardLine', 'SeriesFirstDown',\n",
              "       'NextScore', 'Description', 'TeamWin', 'SeasonYear', 'Yards',\n",
              "       'Formation', 'PlayType', 'IsRush', 'IsPass', 'IsIncomplete',\n",
              "       'IsTouchdown', 'PassType', 'IsSack', 'IsChallenge',\n",
              "       'IsChallengeReversed', 'Challenger', 'IsMeasurement', 'IsInterception',\n",
              "       'IsFumble', 'IsPenalty', 'IsTwoPointConversion',\n",
              "       'IsTwoPointConversionSuccessful', 'RushDirection', 'YardLineFixed',\n",
              "       'YardLineDirection', 'IsPenaltyAccepted', 'PenaltyTeam', 'IsNoPlay',\n",
              "       'PenaltyType', 'PenaltyYards'],\n",
              "      dtype='object')"
            ]
          },
          "metadata": {},
          "execution_count": 2
        }
      ]
    },
    {
      "cell_type": "code",
      "source": [
        "play_type = stats[\"PlayType\"].value_counts()\n",
        "print(play_type)\n",
        "\n",
        "plt.pie(play_type, labels = play_type.index, autopct = '%1.0f%%')\n",
        "plt.title(\"Play\")\n",
        "plt.show()"
      ],
      "metadata": {
        "colab": {
          "base_uri": "https://localhost:8080/",
          "height": 742
        },
        "id": "8uUhg2PlqvWp",
        "outputId": "6599d8ec-a537-4dd3-db28-ecf3d14c0c7a"
      },
      "execution_count": null,
      "outputs": [
        {
          "output_type": "stream",
          "name": "stdout",
          "text": [
            "PlayType\n",
            "PASS                    14855\n",
            "RUSH                    10046\n",
            "KICK OFF                 2076\n",
            "PUNT                     1751\n",
            "TIMEOUT                  1495\n",
            "SACK                     1161\n",
            "SCRAMBLE                  900\n",
            "EXTRA POINT               885\n",
            "FIELD GOAL                824\n",
            "NO PLAY                   682\n",
            "QB KNEEL                  342\n",
            "TWO-POINT CONVERSION      109\n",
            "FUMBLES                    79\n",
            "CLOCK STOP                 50\n",
            "EXCEPTION                  10\n",
            "Name: count, dtype: int64\n"
          ]
        },
        {
          "output_type": "display_data",
          "data": {
            "text/plain": [
              "<Figure size 640x480 with 1 Axes>"
            ],
            "image/png": "[encoded data removed]"
          },
          "metadata": {}
        }
      ]
    },
    {
      "cell_type": "code",
      "source": [
        "stats.head()"
      ],
      "metadata": {
        "colab": {
          "base_uri": "https://localhost:8080/",
          "height": 342
        },
        "id": "EVmz6oWier1h",
        "outputId": "c3d82572-c6b8-4938-db38-5cbfb3e8b373"
      },
      "execution_count": null,
      "outputs": [
        {
          "output_type": "execute_result",
          "data": {
            "text/plain": [
              "       GameId    GameDate  Quarter  Minute  Second OffenseTeam DefenseTeam  \\\n",
              "0  2023121101  2023-12-11        3       1      28         NYG          GB   \n",
              "1  2023121101  2023-12-11        3       1      35         NYG          GB   \n",
              "2  2023121101  2023-12-11        3       2      19         NYG          GB   \n",
              "3  2023121101  2023-12-11        3       2      56         NYG          GB   \n",
              "4  2023121101  2023-12-11        3       3      43         NYG          GB   \n",
              "\n",
              "   Down  ToGo  YardLine  ...  IsTwoPointConversion  \\\n",
              "0     0     0        85  ...                     0   \n",
              "1     3     7        92  ...                     0   \n",
              "2     2    11        88  ...                     0   \n",
              "3     1    10        89  ...                     0   \n",
              "4     1    10        64  ...                     0   \n",
              "\n",
              "   IsTwoPointConversionSuccessful RushDirection  YardLineFixed  \\\n",
              "0                               0           NaN             15   \n",
              "1                               0           NaN              8   \n",
              "2                               0   RIGHT GUARD             12   \n",
              "3                               0        CENTER             11   \n",
              "4                               0           NaN             36   \n",
              "\n",
              "   YardLineDirection  IsPenaltyAccepted PenaltyTeam IsNoPlay  PenaltyType  \\\n",
              "0                OPP                  0         NaN        0          NaN   \n",
              "1                OPP                  0         NaN        0          NaN   \n",
              "2                OPP                  0         NaN        0          NaN   \n",
              "3                OPP                  0         NaN        0          NaN   \n",
              "4                OPP                  0         NaN        0          NaN   \n",
              "\n",
              "   PenaltyYards  \n",
              "0             0  \n",
              "1             0  \n",
              "2             0  \n",
              "3             0  \n",
              "4             0  \n",
              "\n",
              "[5 rows x 41 columns]"
            ],
            "text/html": [
              "\n",
              "  <div id=\"df-899b09e1-e3e7-4255-8025-c9674ead63c4\" class=\"colab-df-container\">\n",
              "    <div>\n",
              "<style scoped>\n",
              "    .dataframe tbody tr th:only-of-type {\n",
              "        vertical-align: middle;\n",
              "    }\n",
              "\n",
              "    .dataframe tbody tr th {\n",
              "        vertical-align: top;\n",
              "    }\n",
              "\n",
              "    .dataframe thead th {\n",
              "        text-align: right;\n",
              "    }\n",
              "</style>\n",
              "<table border=\"1\" class=\"dataframe\">\n",
              "  <thead>\n",
              "    <tr style=\"text-align: right;\">\n",
              "      <th></th>\n",
              "      <th>GameId</th>\n",
              "      <th>GameDate</th>\n",
              "      <th>Quarter</th>\n",
              "      <th>Minute</th>\n",
              "      <th>Second</th>\n",
              "      <th>OffenseTeam</th>\n",
              "      <th>DefenseTeam</th>\n",
              "      <th>Down</th>\n",
              "      <th>ToGo</th>\n",
              "      <th>YardLine</th>\n",
              "      <th>...</th>\n",
              "      <th>IsTwoPointConversion</th>\n",
              "      <th>IsTwoPointConversionSuccessful</th>\n",
              "      <th>RushDirection</th>\n",
              "      <th>YardLineFixed</th>\n",
              "      <th>YardLineDirection</th>\n",
              "      <th>IsPenaltyAccepted</th>\n",
              "      <th>PenaltyTeam</th>\n",
              "      <th>IsNoPlay</th>\n",
              "      <th>PenaltyType</th>\n",
              "      <th>PenaltyYards</th>\n",
              "    </tr>\n",
              "  </thead>\n",
              "  <tbody>\n",
              "    <tr>\n",
              "      <th>0</th>\n",
              "      <td>2023121101</td>\n",
              "      <td>2023-12-11</td>\n",
              "      <td>3</td>\n",
              "      <td>1</td>\n",
              "      <td>28</td>\n",
              "      <td>NYG</td>\n",
              "      <td>GB</td>\n",
              "      <td>0</td>\n",
              "      <td>0</td>\n",
              "      <td>85</td>\n",
              "      <td>...</td>\n",
              "      <td>0</td>\n",
              "      <td>0</td>\n",
              "      <td>NaN</td>\n",
              "      <td>15</td>\n",
              "      <td>OPP</td>\n",
              "      <td>0</td>\n",
              "      <td>NaN</td>\n",
              "      <td>0</td>\n",
              "      <td>NaN</td>\n",
              "      <td>0</td>\n",
              "    </tr>\n",
              "    <tr>\n",
              "      <th>1</th>\n",
              "      <td>2023121101</td>\n",
              "      <td>2023-12-11</td>\n",
              "      <td>3</td>\n",
              "      <td>1</td>\n",
              "      <td>35</td>\n",
              "      <td>NYG</td>\n",
              "      <td>GB</td>\n",
              "      <td>3</td>\n",
              "      <td>7</td>\n",
              "      <td>92</td>\n",
              "      <td>...</td>\n",
              "      <td>0</td>\n",
              "      <td>0</td>\n",
              "      <td>NaN</td>\n",
              "      <td>8</td>\n",
              "      <td>OPP</td>\n",
              "      <td>0</td>\n",
              "      <td>NaN</td>\n",
              "      <td>0</td>\n",
              "      <td>NaN</td>\n",
              "      <td>0</td>\n",
              "    </tr>\n",
              "    <tr>\n",
              "      <th>2</th>\n",
              "      <td>2023121101</td>\n",
              "      <td>2023-12-11</td>\n",
              "      <td>3</td>\n",
              "      <td>2</td>\n",
              "      <td>19</td>\n",
              "      <td>NYG</td>\n",
              "      <td>GB</td>\n",
              "      <td>2</td>\n",
              "      <td>11</td>\n",
              "      <td>88</td>\n",
              "      <td>...</td>\n",
              "      <td>0</td>\n",
              "      <td>0</td>\n",
              "      <td>RIGHT GUARD</td>\n",
              "      <td>12</td>\n",
              "      <td>OPP</td>\n",
              "      <td>0</td>\n",
              "      <td>NaN</td>\n",
              "      <td>0</td>\n",
              "      <td>NaN</td>\n",
              "      <td>0</td>\n",
              "    </tr>\n",
              "    <tr>\n",
              "      <th>3</th>\n",
              "      <td>2023121101</td>\n",
              "      <td>2023-12-11</td>\n",
              "      <td>3</td>\n",
              "      <td>2</td>\n",
              "      <td>56</td>\n",
              "      <td>NYG</td>\n",
              "      <td>GB</td>\n",
              "      <td>1</td>\n",
              "      <td>10</td>\n",
              "      <td>89</td>\n",
              "      <td>...</td>\n",
              "      <td>0</td>\n",
              "      <td>0</td>\n",
              "      <td>CENTER</td>\n",
              "      <td>11</td>\n",
              "      <td>OPP</td>\n",
              "      <td>0</td>\n",
              "      <td>NaN</td>\n",
              "      <td>0</td>\n",
              "      <td>NaN</td>\n",
              "      <td>0</td>\n",
              "    </tr>\n",
              "    <tr>\n",
              "      <th>4</th>\n",
              "      <td>2023121101</td>\n",
              "      <td>2023-12-11</td>\n",
              "      <td>3</td>\n",
              "      <td>3</td>\n",
              "      <td>43</td>\n",
              "      <td>NYG</td>\n",
              "      <td>GB</td>\n",
              "      <td>1</td>\n",
              "      <td>10</td>\n",
              "      <td>64</td>\n",
              "      <td>...</td>\n",
              "      <td>0</td>\n",
              "      <td>0</td>\n",
              "      <td>NaN</td>\n",
              "      <td>36</td>\n",
              "      <td>OPP</td>\n",
              "      <td>0</td>\n",
              "      <td>NaN</td>\n",
              "      <td>0</td>\n",
              "      <td>NaN</td>\n",
              "      <td>0</td>\n",
              "    </tr>\n",
              "  </tbody>\n",
              "</table>\n",
              "<p>5 rows × 41 columns</p>\n",
              "</div>\n",
              "    <div class=\"colab-df-buttons\">\n",
              "\n",
              "  <div class=\"colab-df-container\">\n",
              "    <button class=\"colab-df-convert\" onclick=\"convertToInteractive('df-899b09e1-e3e7-4255-8025-c9674ead63c4')\"\n",
              "            title=\"Convert this dataframe to an interactive table.\"\n",
              "            style=\"display:none;\">\n",
              "\n",
              "  <svg xmlns=\"http://www.w3.org/2000/svg\" height=\"24px\" viewBox=\"0 -960 960 960\">\n",
              "    <path d=\"M120-120v-720h720v720H120Zm60-500h600v-160H180v160Zm220 220h160v-160H400v160Zm0 220h160v-160H400v160ZM180-400h160v-160H180v160Zm440 0h160v-160H620v160ZM180-180h160v-160H180v160Zm440 0h160v-160H620v160Z\"/>\n",
              "  </svg>\n",
              "    </button>\n",
              "\n",
              "  <style>\n",
              "    .colab-df-container {\n",
              "      display:flex;\n",
              "      gap: 12px;\n",
              "    }\n",
              "\n",
              "    .colab-df-convert {\n",
              "      background-color: #E8F0FE;\n",
              "      border: none;\n",
              "      border-radius: 50%;\n",
              "      cursor: pointer;\n",
              "      display: none;\n",
              "      fill: #1967D2;\n",
              "      height: 32px;\n",
              "      padding: 0 0 0 0;\n",
              "      width: 32px;\n",
              "    }\n",
              "\n",
              "    .colab-df-convert:hover {\n",
              "      background-color: #E2EBFA;\n",
              "      box-shadow: 0px 1px 2px rgba(60, 64, 67, 0.3), 0px 1px 3px 1px rgba(60, 64, 67, 0.15);\n",
              "      fill: #174EA6;\n",
              "    }\n",
              "\n",
              "    .colab-df-buttons div {\n",
              "      margin-bottom: 4px;\n",
              "    }\n",
              "\n",
              "    [theme=dark] .colab-df-convert {\n",
              "      background-color: #3B4455;\n",
              "      fill: #D2E3FC;\n",
              "    }\n",
              "\n",
              "    [theme=dark] .colab-df-convert:hover {\n",
              "      background-color: #434B5C;\n",
              "      box-shadow: 0px 1px 3px 1px rgba(0, 0, 0, 0.15);\n",
              "      filter: drop-shadow(0px 1px 2px rgba(0, 0, 0, 0.3));\n",
              "      fill: #FFFFFF;\n",
              "    }\n",
              "  </style>\n",
              "\n",
              "    <script>\n",
              "      const buttonEl =\n",
              "        document.querySelector('#df-899b09e1-e3e7-4255-8025-c9674ead63c4 button.colab-df-convert');\n",
              "      buttonEl.style.display =\n",
              "        google.colab.kernel.accessAllowed ? 'block' : 'none';\n",
              "\n",
              "      async function convertToInteractive(key) {\n",
              "        const element = document.querySelector('#df-899b09e1-e3e7-4255-8025-c9674ead63c4');\n",
              "        const dataTable =\n",
              "          await google.colab.kernel.invokeFunction('convertToInteractive',\n",
              "                                                    [key], {});\n",
              "        if (!dataTable) return;\n",
              "\n",
              "        const docLinkHtml = 'Like what you see? Visit the ' +\n",
              "          '<a target=\"_blank\" href=https://colab.research.google.com/notebooks/data_table.ipynb>data table notebook</a>'\n",
              "          + ' to learn more about interactive tables.';\n",
              "        element.innerHTML = '';\n",
              "        dataTable['output_type'] = 'display_data';\n",
              "        await google.colab.output.renderOutput(dataTable, element);\n",
              "        const docLink = document.createElement('div');\n",
              "        docLink.innerHTML = docLinkHtml;\n",
              "        element.appendChild(docLink);\n",
              "      }\n",
              "    </script>\n",
              "  </div>\n",
              "\n",
              "\n",
              "<div id=\"df-914e9bdb-8641-4ef3-964b-55a615a63b6f\">\n",
              "  <button class=\"colab-df-quickchart\" onclick=\"quickchart('df-914e9bdb-8641-4ef3-964b-55a615a63b6f')\"\n",
              "            title=\"Suggest charts\"\n",
              "            style=\"display:none;\">\n",
              "\n",
              "<svg xmlns=\"http://www.w3.org/2000/svg\" height=\"24px\"viewBox=\"0 0 24 24\"\n",
              "     width=\"24px\">\n",
              "    <g>\n",
              "        <path d=\"M19 3H5c-1.1 0-2 .9-2 2v14c0 1.1.9 2 2 2h14c1.1 0 2-.9 2-2V5c0-1.1-.9-2-2-2zM9 17H7v-7h2v7zm4 0h-2V7h2v10zm4 0h-2v-4h2v4z\"/>\n",
              "    </g>\n",
              "</svg>\n",
              "  </button>\n",
              "\n",
              "<style>\n",
              "  .colab-df-quickchart {\n",
              "      --bg-color: #E8F0FE;\n",
              "      --fill-color: #1967D2;\n",
              "      --hover-bg-color: #E2EBFA;\n",
              "      --hover-fill-color: #174EA6;\n",
              "      --disabled-fill-color: #AAA;\n",
              "      --disabled-bg-color: #DDD;\n",
              "  }\n",
              "\n",
              "  [theme=dark] .colab-df-quickchart {\n",
              "      --bg-color: #3B4455;\n",
              "      --fill-color: #D2E3FC;\n",
              "      --hover-bg-color: #434B5C;\n",
              "      --hover-fill-color: #FFFFFF;\n",
              "      --disabled-bg-color: #3B4455;\n",
              "      --disabled-fill-color: #666;\n",
              "  }\n",
              "\n",
              "  .colab-df-quickchart {\n",
              "    background-color: var(--bg-color);\n",
              "    border: none;\n",
              "    border-radius: 50%;\n",
              "    cursor: pointer;\n",
              "    display: none;\n",
              "    fill: var(--fill-color);\n",
              "    height: 32px;\n",
              "    padding: 0;\n",
              "    width: 32px;\n",
              "  }\n",
              "\n",
              "  .colab-df-quickchart:hover {\n",
              "    background-color: var(--hover-bg-color);\n",
              "    box-shadow: 0 1px 2px rgba(60, 64, 67, 0.3), 0 1px 3px 1px rgba(60, 64, 67, 0.15);\n",
              "    fill: var(--button-hover-fill-color);\n",
              "  }\n",
              "\n",
              "  .colab-df-quickchart-complete:disabled,\n",
              "  .colab-df-quickchart-complete:disabled:hover {\n",
              "    background-color: var(--disabled-bg-color);\n",
              "    fill: var(--disabled-fill-color);\n",
              "    box-shadow: none;\n",
              "  }\n",
              "\n",
              "  .colab-df-spinner {\n",
              "    border: 2px solid var(--fill-color);\n",
              "    border-color: transparent;\n",
              "    border-bottom-color: var(--fill-color);\n",
              "    animation:\n",
              "      spin 1s steps(1) infinite;\n",
              "  }\n",
              "\n",
              "  @keyframes spin {\n",
              "    0% {\n",
              "      border-color: transparent;\n",
              "      border-bottom-color: var(--fill-color);\n",
              "      border-left-color: var(--fill-color);\n",
              "    }\n",
              "    20% {\n",
              "      border-color: transparent;\n",
              "      border-left-color: var(--fill-color);\n",
              "      border-top-color: var(--fill-color);\n",
              "    }\n",
              "    30% {\n",
              "      border-color: transparent;\n",
              "      border-left-color: var(--fill-color);\n",
              "      border-top-color: var(--fill-color);\n",
              "      border-right-color: var(--fill-color);\n",
              "    }\n",
              "    40% {\n",
              "      border-color: transparent;\n",
              "      border-right-color: var(--fill-color);\n",
              "      border-top-color: var(--fill-color);\n",
              "    }\n",
              "    60% {\n",
              "      border-color: transparent;\n",
              "      border-right-color: var(--fill-color);\n",
              "    }\n",
              "    80% {\n",
              "      border-color: transparent;\n",
              "      border-right-color: var(--fill-color);\n",
              "      border-bottom-color: var(--fill-color);\n",
              "    }\n",
              "    90% {\n",
              "      border-color: transparent;\n",
              "      border-bottom-color: var(--fill-color);\n",
              "    }\n",
              "  }\n",
              "</style>\n",
              "\n",
              "  <script>\n",
              "    async function quickchart(key) {\n",
              "      const quickchartButtonEl =\n",
              "        document.querySelector('#' + key + ' button');\n",
              "      quickchartButtonEl.disabled = true;  // To prevent multiple clicks.\n",
              "      quickchartButtonEl.classList.add('colab-df-spinner');\n",
              "      try {\n",
              "        const charts = await google.colab.kernel.invokeFunction(\n",
              "            'suggestCharts', [key], {});\n",
              "      } catch (error) {\n",
              "        console.error('Error during call to suggestCharts:', error);\n",
              "      }\n",
              "      quickchartButtonEl.classList.remove('colab-df-spinner');\n",
              "      quickchartButtonEl.classList.add('colab-df-quickchart-complete');\n",
              "    }\n",
              "    (() => {\n",
              "      let quickchartButtonEl =\n",
              "        document.querySelector('#df-914e9bdb-8641-4ef3-964b-55a615a63b6f button');\n",
              "      quickchartButtonEl.style.display =\n",
              "        google.colab.kernel.accessAllowed ? 'block' : 'none';\n",
              "    })();\n",
              "  </script>\n",
              "</div>\n",
              "\n",
              "    </div>\n",
              "  </div>\n"
            ],
            "application/vnd.google.colaboratory.intrinsic+json": {
              "type": "dataframe",
              "variable_name": "stats"
            }
          },
          "metadata": {},
          "execution_count": 4
        }
      ]
    },
    {
      "cell_type": "markdown",
      "source": [
        "#Cleaning data"
      ],
      "metadata": {
        "id": "IcOLwUwgcE_3"
      }
    },
    {
      "cell_type": "code",
      "source": [
        "#Checking for NaN values first so we know what we need to do\n",
        "missing = stats.columns[stats.isnull().any()].tolist()\n",
        "print(missing) #know some PlayTypes are missing so will solve down later\n"
      ],
      "metadata": {
        "id": "HquX42lYcM0P",
        "colab": {
          "base_uri": "https://localhost:8080/"
        },
        "outputId": "e0bccec9-8ea1-4b69-f567-019452fad5f8"
      },
      "execution_count": null,
      "outputs": [
        {
          "output_type": "stream",
          "name": "stdout",
          "text": [
            "['Formation', 'PlayType', 'PassType', 'Challenger', 'RushDirection', 'PenaltyTeam', 'PenaltyType']\n"
          ]
        }
      ]
    },
    {
      "cell_type": "code",
      "source": [
        "#Honestly most confusing part, hope I made it clear\n",
        "\n",
        "# Define the teams\n",
        "team1 = \"KC\"  # AFC divisional 2022 game was best I've ever seen...\n",
        "team2 = \"BUF\"\n",
        "\n",
        "# Step 1: Filter for KC offense and BUF defense\n",
        "cleaned_teams = stats[(stats[\"OffenseTeam\"] == team1) & (stats[\"DefenseTeam\"] == team2)]\n",
        "print(f\"Number of rows after filtering for teams: {cleaned_teams.shape[0]}\")\n",
        "\n",
        "# Step 2: Filter for relevant play types\n",
        "play_types = [\"PASS\", \"RUSH\", \"SCRAMBLE\", \"SACK\"]\n",
        "cleaned_type = cleaned_teams[cleaned_teams[\"PlayType\"].isin(play_types)]\n",
        "print(f\"Number of rows after filtering for play types: {cleaned_type.shape[0]}\")\n",
        "\n",
        "# Step 3: Update 'SACK' to 'PASS' and 'SCRAMBLE' to 'RUSH'\n",
        "cleaned_type.loc[cleaned_type[\"PlayType\"] == \"SACK\", \"PlayType\"] = \"PASS\"\n",
        "cleaned_type.loc[cleaned_type[\"PlayType\"] == \"SCRAMBLE\", \"PlayType\"] = \"RUSH\"\n",
        "\n",
        "# Step 4: Change passes to 1 and rushes to 0\n",
        "cleaned_type.loc[cleaned_type[\"PlayType\"] == \"PASS\", \"PlayType\"] = 1\n",
        "cleaned_type.loc[cleaned_type[\"PlayType\"] == \"RUSH\", \"PlayType\"] = 0\n",
        "\n",
        "# Step 5: Change formation to 2, 1, 0\n",
        "cleaned_type.loc[cleaned_type[\"Formation\"] == \"SHOTGUN\", \"Formation\"] = 2\n",
        "cleaned_type.loc[cleaned_type[\"Formation\"] == \"UNDER CENTER\", \"Formation\"] = 1\n",
        "cleaned_type.loc[cleaned_type[\"Formation\"] == \"NO HUDDLE SHOTGUN\", \"Formation\"] = 0\n",
        "\n",
        "# Step 6: Change field side to 1, 0\n",
        "cleaned_type.loc[cleaned_type[\"YardLineDirection\"] == \"OPP\", \"YardLineDirection\"] = 1\n",
        "cleaned_type.loc[cleaned_type[\"YardLineDirection\"] == \"OWN\", \"YardLineDirection\"] = 0\n",
        "\n",
        "# Step 7: Remove rows where PlayType is not a pass (1) or a rush (0)\n",
        "cleaned = cleaned_type[cleaned_type[\"PlayType\"].isin([1, 0])]\n",
        "print(f\"Number of rows after final filtering: {cleaned.shape[0]}\")\n",
        "\n",
        "# Step 8: Drop all NaN values incased I missed any\n",
        "cleaned.dropna(subset=[\"PlayType\"], inplace=True)\n",
        "\n",
        "\"\"\"\n",
        "missing = stats.columns[stats.isnull().any()].tolist()\n",
        "print(missing)\n",
        "\n",
        "for col in missing:\n",
        "    print(f\"Column: {col}\")\n",
        "    print(cleaned[cleaned[col].isnull()])\n",
        "    print()\n",
        "\"\"\"\n",
        "\n",
        "# Display the cleaned data\n",
        "print()\n",
        "cleaned.head()\n",
        "\n",
        "\n"
      ],
      "metadata": {
        "id": "G8sGhagOcpUp",
        "colab": {
          "base_uri": "https://localhost:8080/",
          "height": 416
        },
        "outputId": "51c7d866-6a7a-49ed-969e-6f919de5b56e"
      },
      "execution_count": null,
      "outputs": [
        {
          "output_type": "stream",
          "name": "stdout",
          "text": [
            "Number of rows after filtering for teams: 95\n",
            "Number of rows after filtering for play types: 66\n",
            "Number of rows after final filtering: 66\n",
            "\n"
          ]
        },
        {
          "output_type": "execute_result",
          "data": {
            "text/plain": [
              "         GameId    GameDate  Quarter  Minute  Second OffenseTeam DefenseTeam  \\\n",
              "73   2023121009  2023-12-10        4       1      25          KC         BUF   \n",
              "74   2023121009  2023-12-10        4       1      28          KC         BUF   \n",
              "102  2023121009  2023-12-10        4      11      35          KC         BUF   \n",
              "103  2023121009  2023-12-10        4      11      38          KC         BUF   \n",
              "104  2023121009  2023-12-10        4      12      18          KC         BUF   \n",
              "\n",
              "     Down  ToGo  YardLine  ...  IsTwoPointConversion  \\\n",
              "73      2    10        51  ...                     0   \n",
              "74      1    10        51  ...                     0   \n",
              "102     3     8        90  ...                     0   \n",
              "103     2     8        90  ...                     0   \n",
              "104     1    10        88  ...                     0   \n",
              "\n",
              "     IsTwoPointConversionSuccessful RushDirection  YardLineFixed  \\\n",
              "73                                0           NaN             49   \n",
              "74                                0           NaN             49   \n",
              "102                               0           NaN             10   \n",
              "103                               0           NaN             10   \n",
              "104                               0   RIGHT GUARD             12   \n",
              "\n",
              "     YardLineDirection  IsPenaltyAccepted PenaltyTeam IsNoPlay  \\\n",
              "73                   1                  1          KC        1   \n",
              "74                   1                  0         NaN        0   \n",
              "102                  1                  0         NaN        0   \n",
              "103                  1                  0         NaN        0   \n",
              "104                  1                  0         NaN        0   \n",
              "\n",
              "           PenaltyType  PenaltyYards  \n",
              "73   OFFENSIVE OFFSIDE             5  \n",
              "74                 NaN             0  \n",
              "102                NaN             0  \n",
              "103                NaN             0  \n",
              "104                NaN             0  \n",
              "\n",
              "[5 rows x 41 columns]"
            ],
            "text/html": [
              "\n",
              "  <div id=\"df-6435ddcb-86fe-467a-9577-23f8c963d330\" class=\"colab-df-container\">\n",
              "    <div>\n",
              "<style scoped>\n",
              "    .dataframe tbody tr th:only-of-type {\n",
              "        vertical-align: middle;\n",
              "    }\n",
              "\n",
              "    .dataframe tbody tr th {\n",
              "        vertical-align: top;\n",
              "    }\n",
              "\n",
              "    .dataframe thead th {\n",
              "        text-align: right;\n",
              "    }\n",
              "</style>\n",
              "<table border=\"1\" class=\"dataframe\">\n",
              "  <thead>\n",
              "    <tr style=\"text-align: right;\">\n",
              "      <th></th>\n",
              "      <th>GameId</th>\n",
              "      <th>GameDate</th>\n",
              "      <th>Quarter</th>\n",
              "      <th>Minute</th>\n",
              "      <th>Second</th>\n",
              "      <th>OffenseTeam</th>\n",
              "      <th>DefenseTeam</th>\n",
              "      <th>Down</th>\n",
              "      <th>ToGo</th>\n",
              "      <th>YardLine</th>\n",
              "      <th>...</th>\n",
              "      <th>IsTwoPointConversion</th>\n",
              "      <th>IsTwoPointConversionSuccessful</th>\n",
              "      <th>RushDirection</th>\n",
              "      <th>YardLineFixed</th>\n",
              "      <th>YardLineDirection</th>\n",
              "      <th>IsPenaltyAccepted</th>\n",
              "      <th>PenaltyTeam</th>\n",
              "      <th>IsNoPlay</th>\n",
              "      <th>PenaltyType</th>\n",
              "      <th>PenaltyYards</th>\n",
              "    </tr>\n",
              "  </thead>\n",
              "  <tbody>\n",
              "    <tr>\n",
              "      <th>73</th>\n",
              "      <td>2023121009</td>\n",
              "      <td>2023-12-10</td>\n",
              "      <td>4</td>\n",
              "      <td>1</td>\n",
              "      <td>25</td>\n",
              "      <td>KC</td>\n",
              "      <td>BUF</td>\n",
              "      <td>2</td>\n",
              "      <td>10</td>\n",
              "      <td>51</td>\n",
              "      <td>...</td>\n",
              "      <td>0</td>\n",
              "      <td>0</td>\n",
              "      <td>NaN</td>\n",
              "      <td>49</td>\n",
              "      <td>1</td>\n",
              "      <td>1</td>\n",
              "      <td>KC</td>\n",
              "      <td>1</td>\n",
              "      <td>OFFENSIVE OFFSIDE</td>\n",
              "      <td>5</td>\n",
              "    </tr>\n",
              "    <tr>\n",
              "      <th>74</th>\n",
              "      <td>2023121009</td>\n",
              "      <td>2023-12-10</td>\n",
              "      <td>4</td>\n",
              "      <td>1</td>\n",
              "      <td>28</td>\n",
              "      <td>KC</td>\n",
              "      <td>BUF</td>\n",
              "      <td>1</td>\n",
              "      <td>10</td>\n",
              "      <td>51</td>\n",
              "      <td>...</td>\n",
              "      <td>0</td>\n",
              "      <td>0</td>\n",
              "      <td>NaN</td>\n",
              "      <td>49</td>\n",
              "      <td>1</td>\n",
              "      <td>0</td>\n",
              "      <td>NaN</td>\n",
              "      <td>0</td>\n",
              "      <td>NaN</td>\n",
              "      <td>0</td>\n",
              "    </tr>\n",
              "    <tr>\n",
              "      <th>102</th>\n",
              "      <td>2023121009</td>\n",
              "      <td>2023-12-10</td>\n",
              "      <td>4</td>\n",
              "      <td>11</td>\n",
              "      <td>35</td>\n",
              "      <td>KC</td>\n",
              "      <td>BUF</td>\n",
              "      <td>3</td>\n",
              "      <td>8</td>\n",
              "      <td>90</td>\n",
              "      <td>...</td>\n",
              "      <td>0</td>\n",
              "      <td>0</td>\n",
              "      <td>NaN</td>\n",
              "      <td>10</td>\n",
              "      <td>1</td>\n",
              "      <td>0</td>\n",
              "      <td>NaN</td>\n",
              "      <td>0</td>\n",
              "      <td>NaN</td>\n",
              "      <td>0</td>\n",
              "    </tr>\n",
              "    <tr>\n",
              "      <th>103</th>\n",
              "      <td>2023121009</td>\n",
              "      <td>2023-12-10</td>\n",
              "      <td>4</td>\n",
              "      <td>11</td>\n",
              "      <td>38</td>\n",
              "      <td>KC</td>\n",
              "      <td>BUF</td>\n",
              "      <td>2</td>\n",
              "      <td>8</td>\n",
              "      <td>90</td>\n",
              "      <td>...</td>\n",
              "      <td>0</td>\n",
              "      <td>0</td>\n",
              "      <td>NaN</td>\n",
              "      <td>10</td>\n",
              "      <td>1</td>\n",
              "      <td>0</td>\n",
              "      <td>NaN</td>\n",
              "      <td>0</td>\n",
              "      <td>NaN</td>\n",
              "      <td>0</td>\n",
              "    </tr>\n",
              "    <tr>\n",
              "      <th>104</th>\n",
              "      <td>2023121009</td>\n",
              "      <td>2023-12-10</td>\n",
              "      <td>4</td>\n",
              "      <td>12</td>\n",
              "      <td>18</td>\n",
              "      <td>KC</td>\n",
              "      <td>BUF</td>\n",
              "      <td>1</td>\n",
              "      <td>10</td>\n",
              "      <td>88</td>\n",
              "      <td>...</td>\n",
              "      <td>0</td>\n",
              "      <td>0</td>\n",
              "      <td>RIGHT GUARD</td>\n",
              "      <td>12</td>\n",
              "      <td>1</td>\n",
              "      <td>0</td>\n",
              "      <td>NaN</td>\n",
              "      <td>0</td>\n",
              "      <td>NaN</td>\n",
              "      <td>0</td>\n",
              "    </tr>\n",
              "  </tbody>\n",
              "</table>\n",
              "<p>5 rows × 41 columns</p>\n",
              "</div>\n",
              "    <div class=\"colab-df-buttons\">\n",
              "\n",
              "  <div class=\"colab-df-container\">\n",
              "    <button class=\"colab-df-convert\" onclick=\"convertToInteractive('df-6435ddcb-86fe-467a-9577-23f8c963d330')\"\n",
              "            title=\"Convert this dataframe to an interactive table.\"\n",
              "            style=\"display:none;\">\n",
              "\n",
              "  <svg xmlns=\"http://www.w3.org/2000/svg\" height=\"24px\" viewBox=\"0 -960 960 960\">\n",
              "    <path d=\"M120-120v-720h720v720H120Zm60-500h600v-160H180v160Zm220 220h160v-160H400v160Zm0 220h160v-160H400v160ZM180-400h160v-160H180v160Zm440 0h160v-160H620v160ZM180-180h160v-160H180v160Zm440 0h160v-160H620v160Z\"/>\n",
              "  </svg>\n",
              "    </button>\n",
              "\n",
              "  <style>\n",
              "    .colab-df-container {\n",
              "      display:flex;\n",
              "      gap: 12px;\n",
              "    }\n",
              "\n",
              "    .colab-df-convert {\n",
              "      background-color: #E8F0FE;\n",
              "      border: none;\n",
              "      border-radius: 50%;\n",
              "      cursor: pointer;\n",
              "      display: none;\n",
              "      fill: #1967D2;\n",
              "      height: 32px;\n",
              "      padding: 0 0 0 0;\n",
              "      width: 32px;\n",
              "    }\n",
              "\n",
              "    .colab-df-convert:hover {\n",
              "      background-color: #E2EBFA;\n",
              "      box-shadow: 0px 1px 2px rgba(60, 64, 67, 0.3), 0px 1px 3px 1px rgba(60, 64, 67, 0.15);\n",
              "      fill: #174EA6;\n",
              "    }\n",
              "\n",
              "    .colab-df-buttons div {\n",
              "      margin-bottom: 4px;\n",
              "    }\n",
              "\n",
              "    [theme=dark] .colab-df-convert {\n",
              "      background-color: #3B4455;\n",
              "      fill: #D2E3FC;\n",
              "    }\n",
              "\n",
              "    [theme=dark] .colab-df-convert:hover {\n",
              "      background-color: #434B5C;\n",
              "      box-shadow: 0px 1px 3px 1px rgba(0, 0, 0, 0.15);\n",
              "      filter: drop-shadow(0px 1px 2px rgba(0, 0, 0, 0.3));\n",
              "      fill: #FFFFFF;\n",
              "    }\n",
              "  </style>\n",
              "\n",
              "    <script>\n",
              "      const buttonEl =\n",
              "        document.querySelector('#df-6435ddcb-86fe-467a-9577-23f8c963d330 button.colab-df-convert');\n",
              "      buttonEl.style.display =\n",
              "        google.colab.kernel.accessAllowed ? 'block' : 'none';\n",
              "\n",
              "      async function convertToInteractive(key) {\n",
              "        const element = document.querySelector('#df-6435ddcb-86fe-467a-9577-23f8c963d330');\n",
              "        const dataTable =\n",
              "          await google.colab.kernel.invokeFunction('convertToInteractive',\n",
              "                                                    [key], {});\n",
              "        if (!dataTable) return;\n",
              "\n",
              "        const docLinkHtml = 'Like what you see? Visit the ' +\n",
              "          '<a target=\"_blank\" href=https://colab.research.google.com/notebooks/data_table.ipynb>data table notebook</a>'\n",
              "          + ' to learn more about interactive tables.';\n",
              "        element.innerHTML = '';\n",
              "        dataTable['output_type'] = 'display_data';\n",
              "        await google.colab.output.renderOutput(dataTable, element);\n",
              "        const docLink = document.createElement('div');\n",
              "        docLink.innerHTML = docLinkHtml;\n",
              "        element.appendChild(docLink);\n",
              "      }\n",
              "    </script>\n",
              "  </div>\n",
              "\n",
              "\n",
              "<div id=\"df-47848446-3088-4fb1-a365-9f0c8e788e27\">\n",
              "  <button class=\"colab-df-quickchart\" onclick=\"quickchart('df-47848446-3088-4fb1-a365-9f0c8e788e27')\"\n",
              "            title=\"Suggest charts\"\n",
              "            style=\"display:none;\">\n",
              "\n",
              "<svg xmlns=\"http://www.w3.org/2000/svg\" height=\"24px\"viewBox=\"0 0 24 24\"\n",
              "     width=\"24px\">\n",
              "    <g>\n",
              "        <path d=\"M19 3H5c-1.1 0-2 .9-2 2v14c0 1.1.9 2 2 2h14c1.1 0 2-.9 2-2V5c0-1.1-.9-2-2-2zM9 17H7v-7h2v7zm4 0h-2V7h2v10zm4 0h-2v-4h2v4z\"/>\n",
              "    </g>\n",
              "</svg>\n",
              "  </button>\n",
              "\n",
              "<style>\n",
              "  .colab-df-quickchart {\n",
              "      --bg-color: #E8F0FE;\n",
              "      --fill-color: #1967D2;\n",
              "      --hover-bg-color: #E2EBFA;\n",
              "      --hover-fill-color: #174EA6;\n",
              "      --disabled-fill-color: #AAA;\n",
              "      --disabled-bg-color: #DDD;\n",
              "  }\n",
              "\n",
              "  [theme=dark] .colab-df-quickchart {\n",
              "      --bg-color: #3B4455;\n",
              "      --fill-color: #D2E3FC;\n",
              "      --hover-bg-color: #434B5C;\n",
              "      --hover-fill-color: #FFFFFF;\n",
              "      --disabled-bg-color: #3B4455;\n",
              "      --disabled-fill-color: #666;\n",
              "  }\n",
              "\n",
              "  .colab-df-quickchart {\n",
              "    background-color: var(--bg-color);\n",
              "    border: none;\n",
              "    border-radius: 50%;\n",
              "    cursor: pointer;\n",
              "    display: none;\n",
              "    fill: var(--fill-color);\n",
              "    height: 32px;\n",
              "    padding: 0;\n",
              "    width: 32px;\n",
              "  }\n",
              "\n",
              "  .colab-df-quickchart:hover {\n",
              "    background-color: var(--hover-bg-color);\n",
              "    box-shadow: 0 1px 2px rgba(60, 64, 67, 0.3), 0 1px 3px 1px rgba(60, 64, 67, 0.15);\n",
              "    fill: var(--button-hover-fill-color);\n",
              "  }\n",
              "\n",
              "  .colab-df-quickchart-complete:disabled,\n",
              "  .colab-df-quickchart-complete:disabled:hover {\n",
              "    background-color: var(--disabled-bg-color);\n",
              "    fill: var(--disabled-fill-color);\n",
              "    box-shadow: none;\n",
              "  }\n",
              "\n",
              "  .colab-df-spinner {\n",
              "    border: 2px solid var(--fill-color);\n",
              "    border-color: transparent;\n",
              "    border-bottom-color: var(--fill-color);\n",
              "    animation:\n",
              "      spin 1s steps(1) infinite;\n",
              "  }\n",
              "\n",
              "  @keyframes spin {\n",
              "    0% {\n",
              "      border-color: transparent;\n",
              "      border-bottom-color: var(--fill-color);\n",
              "      border-left-color: var(--fill-color);\n",
              "    }\n",
              "    20% {\n",
              "      border-color: transparent;\n",
              "      border-left-color: var(--fill-color);\n",
              "      border-top-color: var(--fill-color);\n",
              "    }\n",
              "    30% {\n",
              "      border-color: transparent;\n",
              "      border-left-color: var(--fill-color);\n",
              "      border-top-color: var(--fill-color);\n",
              "      border-right-color: var(--fill-color);\n",
              "    }\n",
              "    40% {\n",
              "      border-color: transparent;\n",
              "      border-right-color: var(--fill-color);\n",
              "      border-top-color: var(--fill-color);\n",
              "    }\n",
              "    60% {\n",
              "      border-color: transparent;\n",
              "      border-right-color: var(--fill-color);\n",
              "    }\n",
              "    80% {\n",
              "      border-color: transparent;\n",
              "      border-right-color: var(--fill-color);\n",
              "      border-bottom-color: var(--fill-color);\n",
              "    }\n",
              "    90% {\n",
              "      border-color: transparent;\n",
              "      border-bottom-color: var(--fill-color);\n",
              "    }\n",
              "  }\n",
              "</style>\n",
              "\n",
              "  <script>\n",
              "    async function quickchart(key) {\n",
              "      const quickchartButtonEl =\n",
              "        document.querySelector('#' + key + ' button');\n",
              "      quickchartButtonEl.disabled = true;  // To prevent multiple clicks.\n",
              "      quickchartButtonEl.classList.add('colab-df-spinner');\n",
              "      try {\n",
              "        const charts = await google.colab.kernel.invokeFunction(\n",
              "            'suggestCharts', [key], {});\n",
              "      } catch (error) {\n",
              "        console.error('Error during call to suggestCharts:', error);\n",
              "      }\n",
              "      quickchartButtonEl.classList.remove('colab-df-spinner');\n",
              "      quickchartButtonEl.classList.add('colab-df-quickchart-complete');\n",
              "    }\n",
              "    (() => {\n",
              "      let quickchartButtonEl =\n",
              "        document.querySelector('#df-47848446-3088-4fb1-a365-9f0c8e788e27 button');\n",
              "      quickchartButtonEl.style.display =\n",
              "        google.colab.kernel.accessAllowed ? 'block' : 'none';\n",
              "    })();\n",
              "  </script>\n",
              "</div>\n",
              "\n",
              "    </div>\n",
              "  </div>\n"
            ],
            "application/vnd.google.colaboratory.intrinsic+json": {
              "type": "dataframe",
              "variable_name": "cleaned"
            }
          },
          "metadata": {},
          "execution_count": 6
        }
      ]
    },
    {
      "cell_type": "markdown",
      "source": [
        "## Dividing our test/train sets\n"
      ],
      "metadata": {
        "id": "snQkI7RDdjwv"
      }
    },
    {
      "cell_type": "code",
      "source": [
        "#We need to remove identifying game data from each like GameID, Data, TeamWin, SeasonYear etc\n",
        "#We also want to remove things that could help the ML Program identify if it was a pass, i.e an IsIncomplete value of 1 means the play was a pass so we need to remove it\n",
        "#Divide data into test/train sets\n",
        "#I ultimately decided not to remove them, but rather just create a \"params\" list with acceptable variables, minus few I chose to ignore\n",
        "\n",
        "params = cleaned[[\"Quarter\", 'Minute', 'Down', 'ToGo', 'YardLine', 'SeriesFirstDown',\n",
        "       'Formation', 'YardLineDirection']]\n",
        "\n",
        "x = params\n",
        "x = x.astype(int) #convert from object to ints\n",
        "y = cleaned[\"PlayType\"]\n",
        "y = y.astype(int)\n",
        "\n",
        "#Split data into test/train sets\n",
        "from sklearn.model_selection import train_test_split\n",
        "X_train, X_test, y_train, y_test = train_test_split(x, y, test_size=0.2, random_state=42)\n",
        "\n",
        "print(X_test)\n",
        "print()\n",
        "print(\"Testing size:\", y_test.shape) #small to be honest\n",
        "\n"
      ],
      "metadata": {
        "id": "HNxzoG4Vdrnm",
        "colab": {
          "base_uri": "https://localhost:8080/"
        },
        "outputId": "e3171be3-b7a4-43b6-aadf-4c8329a8c9af"
      },
      "execution_count": null,
      "outputs": [
        {
          "output_type": "stream",
          "name": "stdout",
          "text": [
            "       Quarter  Minute  Down  ToGo  YardLine  SeriesFirstDown  Formation  \\\n",
            "38736        3       1     3     2        34                1          2   \n",
            "38761        4       1     2     3        32                1          2   \n",
            "73           4       1     2    10        51                0          2   \n",
            "38343        2      10     2     8        32                0          2   \n",
            "105          4      12     1    10        68                1          1   \n",
            "38762        4       1     2    15        46                0          2   \n",
            "342          2       1     2    10        87                0          2   \n",
            "121          3       5     3     1        60                1          1   \n",
            "38764        4       1     4    15        46                0          2   \n",
            "389          1      12     1    10        51                0          2   \n",
            "38322        1      13     1    10        37                0          2   \n",
            "117          3       4     2     9        90                0          2   \n",
            "38333        1       3     2     7        28                0          2   \n",
            "122          3       6     2     3        58                0          1   \n",
            "\n",
            "       YardLineDirection  \n",
            "38736                  0  \n",
            "38761                  0  \n",
            "73                     1  \n",
            "38343                  0  \n",
            "105                    1  \n",
            "38762                  0  \n",
            "342                    1  \n",
            "121                    1  \n",
            "38764                  0  \n",
            "389                    1  \n",
            "38322                  0  \n",
            "117                    1  \n",
            "38333                  0  \n",
            "122                    1  \n",
            "\n",
            "Testing size: (14,)\n"
          ]
        }
      ]
    },
    {
      "cell_type": "markdown",
      "source": [
        "## Visualization Graphs\n"
      ],
      "metadata": {
        "id": "zVN5_qtE_arK"
      }
    },
    {
      "cell_type": "code",
      "source": [
        "import matplotlib.pyplot as plt\n",
        "\n",
        "length = len(params.columns)\n",
        "\n",
        "fig, axs = plt.subplots(1, length, figsize=(5 * length, 5))\n",
        "\n",
        "for i, param in enumerate(params.columns):\n",
        "    axs[i].scatter(params[param], y)\n",
        "    axs[i].set_xlabel(param)\n",
        "    axs[i].set_ylabel(\"Play Type\")\n",
        "\n",
        "plt.tight_layout()\n",
        "plt.show()\n"
      ],
      "metadata": {
        "colab": {
          "base_uri": "https://localhost:8080/",
          "height": 227
        },
        "id": "SPGCyxb2_iqj",
        "outputId": "19189453-e23a-4e85-ff53-4db2f5f728b5"
      },
      "execution_count": null,
      "outputs": [
        {
          "output_type": "display_data",
          "data": {
            "text/plain": [
              "<Figure size 4000x500 with 8 Axes>"
            ],
            "image/png": "[encoded data removed]"
          },
          "metadata": {}
        }
      ]
    },
    {
      "cell_type": "markdown",
      "source": [
        "#Machine Learning Program\n"
      ],
      "metadata": {
        "id": "0CwliECyduRY"
      }
    },
    {
      "cell_type": "markdown",
      "source": [
        "## Baseline"
      ],
      "metadata": {
        "id": "aYtzzN0Xd1QF"
      }
    },
    {
      "cell_type": "code",
      "source": [
        "#We need to set a baseline, I looked at the full data set and if the average was 30% runs 70% pass, that is was the baseline would use those values\n",
        "train_type = y_train.value_counts()\n",
        "print(train_type)\n",
        "\n",
        "plt.pie(train_type, labels = train_type.index, autopct = '%1.0f%%') #1 is pass, 0 is run\n",
        "plt.title(\"Play\")\n",
        "plt.show()"
      ],
      "metadata": {
        "id": "aSMcO7Sgd7s-",
        "colab": {
          "base_uri": "https://localhost:8080/",
          "height": 502
        },
        "outputId": "ab51a585-bb2c-4d3a-80e4-141adf6b476d"
      },
      "execution_count": null,
      "outputs": [
        {
          "output_type": "stream",
          "name": "stdout",
          "text": [
            "PlayType\n",
            "1    34\n",
            "0    18\n",
            "Name: count, dtype: int64\n"
          ]
        },
        {
          "output_type": "display_data",
          "data": {
            "text/plain": [
              "<Figure size 640x480 with 1 Axes>"
            ],
            "image/png": "[encoded data removed]"
          },
          "metadata": {}
        }
      ]
    },
    {
      "cell_type": "code",
      "source": [
        "#Looking above we get 65% 35% for this example, so we will use these values for our Majority Class Baseline\n",
        "from sklearn.dummy import DummyClassifier\n",
        "from sklearn.model_selection import cross_val_score\n",
        "\n",
        "k = 10\n",
        "\n",
        "print(\"Majority class Baseline\")\n",
        "majority_clf = DummyClassifier(strategy='most_frequent')\n",
        "scores = cross_val_score(majority_clf, X_train, y_train, cv=k)\n",
        "print(f\"Mean Accuracy: {np.mean(scores):.4f}\")\n",
        "\n",
        "#for me to consider this project a success I want to be 10% better"
      ],
      "metadata": {
        "colab": {
          "base_uri": "https://localhost:8080/"
        },
        "id": "v4seIh3ExWXq",
        "outputId": "cec0f0bf-3740-4457-e88e-fa4a9b6cb0cc"
      },
      "execution_count": null,
      "outputs": [
        {
          "output_type": "stream",
          "name": "stdout",
          "text": [
            "Majority class Baseline\n",
            "Mean Accuracy: 0.6533\n"
          ]
        }
      ]
    },
    {
      "cell_type": "markdown",
      "source": [
        "## ML Trials"
      ],
      "metadata": {
        "id": "pEIy-1fd2H22"
      }
    },
    {
      "cell_type": "markdown",
      "source": [
        "### Random Forest Classifier"
      ],
      "metadata": {
        "id": "CJWZK_Bi26Bm"
      }
    },
    {
      "cell_type": "code",
      "source": [
        "# Random Forest Classifier\n",
        "from sklearn.ensemble import RandomForestClassifier\n",
        "\n",
        "print(\"Random Forest classifier\")\n",
        "model1 = RandomForestClassifier(n_estimators=200, max_depth=10, random_state=1)\n",
        "scores = cross_val_score(model1, X_train, y_train, cv=k)\n",
        "print(f\"Mean Accuracy: {np.mean(scores):.4f}\")\n",
        "print()"
      ],
      "metadata": {
        "colab": {
          "base_uri": "https://localhost:8080/"
        },
        "id": "1REWRrNr2-G3",
        "outputId": "b3daec1d-190d-4e1a-8453-77f6ede33bc3"
      },
      "execution_count": null,
      "outputs": [
        {
          "output_type": "stream",
          "name": "stdout",
          "text": [
            "Random Forest classifier\n",
            "Mean Accuracy: 0.6967\n",
            "\n"
          ]
        }
      ]
    },
    {
      "cell_type": "markdown",
      "source": [
        "### Multi-layer Perceptron"
      ],
      "metadata": {
        "id": "H_Ci9JF34GZm"
      }
    },
    {
      "cell_type": "code",
      "source": [
        "#MLP Neural Network Classifier\n",
        "from sklearn.neural_network import MLPClassifier\n",
        "\n",
        "model2 = MLPClassifier(solver='adam', alpha=1e-5, hidden_layer_sizes=(5, 2), random_state=1, max_iter=1000000)\n",
        "\n",
        "model2.fit(X_train, y_train)\n",
        "scores = cross_val_score(model2, X_train, y_train, cv=k)\n",
        "print(f\"Mean Accuracy: {np.mean(scores):.4f}\")\n",
        "print()"
      ],
      "metadata": {
        "colab": {
          "base_uri": "https://localhost:8080/"
        },
        "id": "JnsPaXIh4MQi",
        "outputId": "d168e1ce-37d5-4201-c0fd-cf3ee83e4ead"
      },
      "execution_count": null,
      "outputs": [
        {
          "output_type": "stream",
          "name": "stdout",
          "text": [
            "Mean Accuracy: 0.6733\n",
            "\n"
          ]
        }
      ]
    },
    {
      "cell_type": "markdown",
      "source": [
        "### Gaussian Naive Bayes\n"
      ],
      "metadata": {
        "id": "UQG7L2uI5rd1"
      }
    },
    {
      "cell_type": "code",
      "source": [
        "#Gaussian NB Classifier\n",
        "from sklearn.naive_bayes import GaussianNB\n",
        "\n",
        "print(\"GaussianNB\")\n",
        "model3 = GaussianNB()\n",
        "scores = cross_val_score(model3, X_train, y_train, cv=k)\n",
        "print(f\"Mean Accuracy: {np.mean(scores):.4f}\")\n",
        "print()\n"
      ],
      "metadata": {
        "colab": {
          "base_uri": "https://localhost:8080/"
        },
        "id": "3bkDvx-p5tvf",
        "outputId": "ef97b710-ed50-42cf-88e8-21e6736cfdd6"
      },
      "execution_count": null,
      "outputs": [
        {
          "output_type": "stream",
          "name": "stdout",
          "text": [
            "GaussianNB\n",
            "Mean Accuracy: 0.6433\n",
            "\n"
          ]
        }
      ]
    },
    {
      "cell_type": "markdown",
      "source": [
        "#Review\n"
      ],
      "metadata": {
        "id": "eG_7cb9seFxw"
      }
    },
    {
      "cell_type": "markdown",
      "source": [
        "## Save the Best Preforming Model's Predictions\n"
      ],
      "metadata": {
        "id": "6XwEdJwj9shU"
      }
    },
    {
      "cell_type": "code",
      "source": [
        "import csv\n",
        "from google.colab import files\n",
        "\n",
        "best_model = model1\n",
        "\n",
        "best_model.fit(X_train, y_train)\n",
        "y_pred = best_model.predict(X_test)\n",
        "\n",
        "with open(\"predictions.csv\", 'w', newline='') as f:\n",
        "    writer = csv.writer(f)\n",
        "    writer.writerow(['Prediction'])\n",
        "    for pred in y_pred:\n",
        "        writer.writerow([pred])\n",
        "\n",
        "files.download('predictions.csv')"
      ],
      "metadata": {
        "colab": {
          "base_uri": "https://localhost:8080/",
          "height": 17
        },
        "id": "PDBMSTh89wsX",
        "outputId": "fa3eae3d-0b96-4f4b-9d2b-6d4ca48d0f34"
      },
      "execution_count": null,
      "outputs": [
        {
          "output_type": "display_data",
          "data": {
            "text/plain": [
              "<IPython.core.display.Javascript object>"
            ],
            "application/javascript": [
              "\n",
              "    async function download(id, filename, size) {\n",
              "      if (!google.colab.kernel.accessAllowed) {\n",
              "        return;\n",
              "      }\n",
              "      const div = document.createElement('div');\n",
              "      const label = document.createElement('label');\n",
              "      label.textContent = `Downloading \"${filename}\": `;\n",
              "      div.appendChild(label);\n",
              "      const progress = document.createElement('progress');\n",
              "      progress.max = size;\n",
              "      div.appendChild(progress);\n",
              "      document.body.appendChild(div);\n",
              "\n",
              "      const buffers = [];\n",
              "      let downloaded = 0;\n",
              "\n",
              "      const channel = await google.colab.kernel.comms.open(id);\n",
              "      // Send a message to notify the kernel that we're ready.\n",
              "      channel.send({})\n",
              "\n",
              "      for await (const message of channel.messages) {\n",
              "        // Send a message to notify the kernel that we're ready.\n",
              "        channel.send({})\n",
              "        if (message.buffers) {\n",
              "          for (const buffer of message.buffers) {\n",
              "            buffers.push(buffer);\n",
              "            downloaded += buffer.byteLength;\n",
              "            progress.value = downloaded;\n",
              "          }\n",
              "        }\n",
              "      }\n",
              "      const blob = new Blob(buffers, {type: 'application/binary'});\n",
              "      const a = document.createElement('a');\n",
              "      a.href = window.URL.createObjectURL(blob);\n",
              "      a.download = filename;\n",
              "      div.appendChild(a);\n",
              "      a.click();\n",
              "      div.remove();\n",
              "    }\n",
              "  "
            ]
          },
          "metadata": {}
        },
        {
          "output_type": "display_data",
          "data": {
            "text/plain": [
              "<IPython.core.display.Javascript object>"
            ],
            "application/javascript": [
              "download(\"download_40136900-17cf-422e-951b-8e9e1fec6f27\", \"predictions.csv\", 54)"
            ]
          },
          "metadata": {}
        }
      ]
    },
    {
      "cell_type": "markdown",
      "source": [
        "## Statement about Program"
      ],
      "metadata": {
        "id": "i4hMD6lfegRS"
      }
    },
    {
      "cell_type": "markdown",
      "source": [
        "This is just a short discussion about the program.\n",
        "\n",
        "Obviously the biggest issue is the data set size; however, despite this, I do believe that my model1 was 5% better and would be much better over larger data. To get larger data I could have only looked at team1 versus when they are playing eachother. Despite this, I am happy with the work."
      ],
      "metadata": {
        "id": "YJgRUtbjeO1j"
      }
    },
    {
      "cell_type": "code",
      "source": [],
      "metadata": {
        "id": "Z5eD0bTWqP5V"
      },
      "execution_count": null,
      "outputs": []
    }
  ]
}